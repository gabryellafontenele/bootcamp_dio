{
  "nbformat": 4,
  "nbformat_minor": 0,
  "metadata": {
    "colab": {
      "provenance": [],
      "authorship_tag": "ABX9TyOm5o6SSZBv/evR/DB+WrBh"
    },
    "kernelspec": {
      "name": "python3",
      "display_name": "Python 3"
    },
    "language_info": {
      "name": "python"
    }
  },
  "cells": [
    {
      "cell_type": "markdown",
      "source": [
        "#DESAFIO\n",
        "Fomos contratados por um grande banco para desenvolver o seu novo sistema. Esse banco deseja modernizar suas operações e para isso escolheu a linguagem Python. Para a primeira versão do sistema devemos implementar apenas 3 operações: depósito, saque e extrato."
      ],
      "metadata": {
        "id": "HBIr30S6gmd7"
      }
    },
    {
      "cell_type": "markdown",
      "source": [
        "#OPERAÇÃO DE DEPOSITO\n",
        "Deve ser possível depositar valores positivos para a minha conta bancária. A v1 do projeto trabalha apenas com 1 usuário, dessa forma não precisamos nos preocupar em identificar qual é o número da agência e conta bancária. Todos os depósitos devem ser armazenados em uma variável e exibidos na operação de extrato."
      ],
      "metadata": {
        "id": "G3U9EU4fg3rC"
      }
    },
    {
      "cell_type": "markdown",
      "source": [
        "#OPERAÇÃO DE SAQUE\n",
        "O sistama deve permitir realizar 3 saques diários com limite máximo de 500 por saque. Caso o usuário não tenha saldo em conta, o sistema deve exibir uma mensagem informando que não será possível sacar o dinheiro por falra de saldo. Todos os saques devem ser armazenados em uma variável e exibidos na operação de extrato."
      ],
      "metadata": {
        "id": "wFy6xGXRhNb4"
      }
    },
    {
      "cell_type": "markdown",
      "source": [
        "#OPERAÇÃO DE EXTRATO\n",
        "Essa operação deve listar todos os depósitos e saques realizados na conta. No fim da listagem deve ser exibido o saldo atual da conta.\n",
        "Os valores devem ser exibidos utilizando o formato $xxx.xxx,\n",
        "Exemplo:\n",
        "1500.45 = 1500.45"
      ],
      "metadata": {
        "id": "rN54_J3UhSbo"
      }
    },
    {
      "cell_type": "code",
      "source": [
        "menu = \"\"\"\n",
        "\n",
        "[0] Depositar\n",
        "[1] Sacar\n",
        "[2] Extrato\n",
        "[3] Sair\n",
        "\n",
        "=> \"\"\"\n",
        "\n",
        "saldo =  0\n",
        "limite = 500\n",
        "extrato = \"\"\n",
        "numero_saques = 0\n",
        "LIMITE_SAQUES = 3\n",
        "\n",
        "while True:\n",
        "\n",
        "  opcao = input(menu)\n",
        "\n",
        "  if opcao == \"0\":\n",
        "    valor_str = input(\"Informe o valor do depósito: \")\n",
        "    try:\n",
        "      valor = float(valor_str.replace(\"R$\", \"\").replace(\",\", \".\"))\n",
        "    except ValueError:\n",
        "      print(\"Operação falhou! O valor informado é inválido.\")\n",
        "      continue\n",
        "\n",
        "    if valor > 0:\n",
        "      saldo += valor\n",
        "      extrato += f\"Depósito: R$ {valor:.2f}\\n\"\n",
        "\n",
        "    else:\n",
        "      print(\"Operação falhou! O valor informado é inválido.\")\n",
        "\n",
        "  elif opcao == \"1\":\n",
        "    valor_str = input(\"Informe o valor do saque: \")\n",
        "    try:\n",
        "      valor = float(valor_str.replace(\"R$\", \"\").replace(\",\", \".\"))\n",
        "    except ValueError:\n",
        "      print(\"Operação falhou! O valor informado é inválido.\")\n",
        "      continue\n",
        "\n",
        "    excedeu_saldo = valor > saldo\n",
        "\n",
        "    excedeu_limite = valor > limite\n",
        "\n",
        "    excedeu_saques = numero_saques >= LIMITE_SAQUES\n",
        "\n",
        "    if excedeu_saldo:\n",
        "      print(\"Operação falhou! Você não tem saldo suficiente.\")\n",
        "\n",
        "    elif excedeu_limite:\n",
        "      print(\"Operação falhou! O valor do saque excede o limite.\")\n",
        "\n",
        "    elif excedeu_saques:\n",
        "      print(\"Operação falhou! Número máximo de saques excedido.\")\n",
        "\n",
        "    elif valor > 0:\n",
        "      saldo -= valor\n",
        "      extrato += f\"Saque: R$ {valor:.2f}\\n\"\n",
        "      numero_saques += 1\n",
        "\n",
        "    else:\n",
        "      print(\"Operação falhou! O valor informado é inválido.\")\n",
        "\n",
        "  elif opcao == \"2\":\n",
        "    print(\"\\n===================== EXTRATO =====================\")\n",
        "    print(\"Não foram relaizadas movimentaçóes.\" if not extrato else extrato)\n",
        "    print(f\"\\nSaldo: R$ {saldo:.2f}\" )\n",
        "    print(\"====================================================\")\n",
        "\n",
        "  elif opcao == \"3\":\n",
        "      break\n",
        "\n",
        "  else:\n",
        "      print(\"Operação inválida, por favor selecione novamente a operação desejada.\")"
      ],
      "metadata": {
        "id": "f80pUXLMheA4"
      },
      "execution_count": null,
      "outputs": []
    }
  ]
}